{
 "cells": [
  {
   "cell_type": "code",
   "execution_count": 2,
   "metadata": {},
   "outputs": [
    {
     "ename": "AttributeError",
     "evalue": "'NoneType' object has no attribute 'shape'",
     "output_type": "error",
     "traceback": [
      "\u001b[1;31m---------------------------------------------------------------------------\u001b[0m",
      "\u001b[1;31mAttributeError\u001b[0m                            Traceback (most recent call last)",
      "\u001b[1;32me:\\ljl_project\\Python\\python模块\\opencv_demo\\code\\1.ipynb Cell 1\u001b[0m in \u001b[0;36m<cell line: 5>\u001b[1;34m()\u001b[0m\n\u001b[0;32m      <a href='vscode-notebook-cell:/e%3A/ljl_project/Python/python%E6%A8%A1%E5%9D%97/opencv_demo/code/1.ipynb#W0sZmlsZQ%3D%3D?line=2'>3</a>\u001b[0m img\u001b[39m=\u001b[39mcv2\u001b[39m.\u001b[39mimread(\u001b[39m\"\u001b[39m\u001b[39mimages/pics/background.jpg\u001b[39m\u001b[39m\"\u001b[39m)\n\u001b[0;32m      <a href='vscode-notebook-cell:/e%3A/ljl_project/Python/python%E6%A8%A1%E5%9D%97/opencv_demo/code/1.ipynb#W0sZmlsZQ%3D%3D?line=3'>4</a>\u001b[0m temp1\u001b[39m=\u001b[39mcv2\u001b[39m.\u001b[39mimread(\u001b[39m\"\u001b[39m\u001b[39mimages/pics/template.png\u001b[39m\u001b[39m\"\u001b[39m)\n\u001b[1;32m----> <a href='vscode-notebook-cell:/e%3A/ljl_project/Python/python%E6%A8%A1%E5%9D%97/opencv_demo/code/1.ipynb#W0sZmlsZQ%3D%3D?line=4'>5</a>\u001b[0m width,height,c\u001b[39m=\u001b[39mtemp1\u001b[39m.\u001b[39;49mshape()\n\u001b[0;32m      <a href='vscode-notebook-cell:/e%3A/ljl_project/Python/python%E6%A8%A1%E5%9D%97/opencv_demo/code/1.ipynb#W0sZmlsZQ%3D%3D?line=5'>6</a>\u001b[0m results\u001b[39m=\u001b[39mcv2\u001b[39m.\u001b[39mmatchTemplate(img,temp1,cv2\u001b[39m.\u001b[39mTM_SQDIFF_NORMED)\n\u001b[0;32m      <a href='vscode-notebook-cell:/e%3A/ljl_project/Python/python%E6%A8%A1%E5%9D%97/opencv_demo/code/1.ipynb#W0sZmlsZQ%3D%3D?line=6'>7</a>\u001b[0m minValue,maxValue,minLoc,maxLoc\u001b[39m=\u001b[39mcv2\u001b[39m.\u001b[39mminMaxLoc(results)\n",
      "\u001b[1;31mAttributeError\u001b[0m: 'NoneType' object has no attribute 'shape'"
     ]
    }
   ],
   "source": [
    "import cv2 \n",
    "from PIL import Image\n",
    "img=cv2.imread(\"images/pics/background.jpg\")\n",
    "temp1=cv2.imread(\"images/pics/template.png\")\n",
    "width,height,c=temp1.shape()\n",
    "results=cv2.matchTemplate(img,temp1,cv2.TM_SQDIFF_NORMED)\n",
    "minValue,maxValue,minLoc,maxLoc=cv2.minMaxLoc(results)\n",
    "resultsPoint1=minLoc\n",
    "resultsPoint2=(resultsPoint1[0]+width,resultsPoint1[1]+height)\n",
    "cv2.rectangle(img,resultsPoint1,resultsPoint2,(0,0,225),2)\n",
    "cv2.imshow(\"ljl\",img)\n",
    "cv2.waitKey(0)\n",
    "cv2.destroyAllWindows()"
   ]
  },
  {
   "cell_type": "code",
   "execution_count": 3,
   "metadata": {},
   "outputs": [],
   "source": [
    "import cv2\n",
    "import numpy as np\n",
    "huabu=np.zeros((300,300,3),np.uint8)\n",
    "huabu=cv2.rectangle(huabu,(100,100),(200,200),(0,0,225),2)\n",
    "cv2.imshow(\"ljl\",huabu)\n",
    "cv2.waitKey(0)\n",
    "cv2.destroyAllWindows()"
   ]
  }
 ],
 "metadata": {
  "kernelspec": {
   "display_name": "Python 3.9.12 ('base')",
   "language": "python",
   "name": "python3"
  },
  "language_info": {
   "codemirror_mode": {
    "name": "ipython",
    "version": 3
   },
   "file_extension": ".py",
   "mimetype": "text/x-python",
   "name": "python",
   "nbconvert_exporter": "python",
   "pygments_lexer": "ipython3",
   "version": "3.9.12"
  },
  "orig_nbformat": 4,
  "vscode": {
   "interpreter": {
    "hash": "88279d2366fe020547cde40dd65aa0e3aa662a6ec1f3ca12d88834876c85e1a6"
   }
  }
 },
 "nbformat": 4,
 "nbformat_minor": 2
}
