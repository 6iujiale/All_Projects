{
 "cells": [
  {
   "attachments": {},
   "cell_type": "markdown",
   "metadata": {},
   "source": [
    "## 案例一\n",
    "### 两数之和，输入两个数字，打印数字之和"
   ]
  },
  {
   "cell_type": "code",
   "execution_count": null,
   "metadata": {},
   "outputs": [],
   "source": [
    "num1=int(input(\"数字一：\"))\n",
    "num2=int(input(\"数字二：\"))\n",
    "sum=num1+num2\n",
    "print(\"两个数字的和是:\",sum)"
   ]
  },
  {
   "attachments": {},
   "cell_type": "markdown",
   "metadata": {},
   "source": [
    "十个案例\n",
    "python基础\n",
    "    输入、输出语句\n",
    "    流程控制语句\n",
    "        条件判断\n",
    "        循环语句\n",
    "    函数(封装、传参、返回值)\n",
    "\n",
    "输入语句：input()=>输入的默认是str类型,如果要进行加减,要类型转换为int=> int(input())\n",
    "输出语句：print()\n",
    "\n",
    "流程判断语句\n",
    "    if 条件：\n",
    "        语句体1\n",
    "    elif 条件:\n",
    "        语句体2\n",
    "    else:\n",
    "        语句体3\n",
    "\n",
    "循环语句\n",
    "    while循环\n",
    "    for循环[常用]\n",
    "\n",
    "函数\n",
    "    def 函数名(形参):\n",
    "        pass #占位符,保证代码正常运行,无实际意义。\n",
    "        return value\n",
    "    函数名(实参)"
   ]
  },
  {
   "attachments": {},
   "cell_type": "markdown",
   "metadata": {},
   "source": [
    "## 案例二\n",
    "### 求数字阶乘，3的阶乘:3*2*1"
   ]
  },
  {
   "cell_type": "code",
   "execution_count": null,
   "metadata": {},
   "outputs": [],
   "source": [
    "num=int(input(\"输入一个数字,计算阶乘：\"))\n",
    "mci=1\n",
    "for i in range(1,num+1):\n",
    "    mci*=i\n",
    "print(f\"数字{num}阶乘是{mci}\")"
   ]
  },
  {
   "attachments": {},
   "cell_type": "markdown",
   "metadata": {},
   "source": [
    "## 案例三\n",
    "### 输入半径,返回圆的面积"
   ]
  },
  {
   "cell_type": "code",
   "execution_count": null,
   "metadata": {},
   "outputs": [],
   "source": [
    "r=int(input(\"输入圆的半径：\"))\n",
    "area=3.14*r**2#r**2  r的2次方\n",
    "print(f\"圆的面积是{area}\")"
   ]
  },
  {
   "attachments": {},
   "cell_type": "markdown",
   "metadata": {},
   "source": [
    "## 案例四\n",
    "### 输入开始数字和结束数字，打印区间的素数"
   ]
  },
  {
   "cell_type": "code",
   "execution_count": null,
   "metadata": {},
   "outputs": [],
   "source": [
    "start_num=int(input(\"开始数字：\"))\n",
    "end_num=int(input(\"结束数字：\"))\n",
    "\n",
    "\"\"\" while start_num<end_num:\n",
    "    # print(start_num)\n",
    "    start_num+=1\n",
    "    if start_num%2!=0:\n",
    "        print(start_num)\n",
    " \"\"\"\n",
    "    \n",
    "\n",
    "def print_primes(begin,end):\n",
    "    while begin<end:\n",
    "        begin+=1\n",
    "        if begin%2!=0:\n",
    "            print(begin)\n",
    "print_primes(start_num,end_num)"
   ]
  },
  {
   "attachments": {},
   "cell_type": "markdown",
   "metadata": {},
   "source": [
    "## 案例五\n",
    "### 输入一个数字N\n",
    "### 计算：1的二次方一直到加到N的二次方"
   ]
  },
  {
   "cell_type": "code",
   "execution_count": null,
   "metadata": {},
   "outputs": [],
   "source": [
    "num=int(input(\"输入一个数字,求前n个平方和: \"))\n",
    "s_sum=0\n",
    "for i in range(1,num+1):\n",
    "    s_sum+=i**2\n",
    "print(s_sum)"
   ]
  },
  {
   "attachments": {},
   "cell_type": "markdown",
   "metadata": {},
   "source": [
    "## 案例六\n",
    "### 计算列表数字的和\n",
    "### Input[1,2,3,4] sum=10"
   ]
  },
  {
   "cell_type": "code",
   "execution_count": null,
   "metadata": {},
   "outputs": [],
   "source": [
    "def sum_of_list(param_list):#param:参数\n",
    "    result=sum(param_list)\n",
    "    return result\n",
    "\n",
    "list1=[1,2,3,4]\n",
    "a=sum_of_list(list1)\n",
    "print(f\"{list1}列表的总和为{a}\")\n",
    "list2=[19,12,34,2]\n",
    "b=sum_of_list(list2)\n",
    "print(f\"{list2}列表的总和为{b}\")"
   ]
  },
  {
   "attachments": {},
   "cell_type": "markdown",
   "metadata": {},
   "source": [
    "## 案例七\n",
    "### 计算数字范围内中所有的偶数\n",
    "### 输入开始和结束值（不包含），得到所有偶数偶数：能够被2所整除的整数，是2的倍数\n",
    "#### 输入： begin=4、end=15返回：[4,6,8,10,12,14]"
   ]
  },
  {
   "cell_type": "code",
   "execution_count": null,
   "metadata": {},
   "outputs": [],
   "source": [
    "def get_numList(begin,end):\n",
    "    num=[]\n",
    "    for i in range(begin,end):\n",
    "        if i%2==0:\n",
    "            num.append(i)  \n",
    "    return num\n",
    "a=get_numList(4,15)\n",
    "print(a)"
   ]
  },
  {
   "attachments": {},
   "cell_type": "markdown",
   "metadata": {},
   "source": [
    "##  案例八\n",
    "### 移除列表中的指定元素\n",
    "### 原始元素：[3,5,7,9,11,13],移除元素[7,11],返回[3,5,9,13]"
   ]
  },
  {
   "cell_type": "code",
   "execution_count": null,
   "metadata": {},
   "outputs": [],
   "source": [
    "lista=[3,5,7,9,11,13]\n",
    "listb=[7,11]\n",
    "for i in lista:\n",
    "    if i in listb:\n",
    "        lista.remove(i)\n",
    "print(lista)"
   ]
  },
  {
   "attachments": {},
   "cell_type": "markdown",
   "metadata": {},
   "source": [
    "## 案例九\n",
    "### 输入,包括重复元素的原始列表：[1,1,2,3,3,4]\n",
    "### 返回：[1，2，3，4]"
   ]
  },
  {
   "cell_type": "code",
   "execution_count": null,
   "metadata": {},
   "outputs": [],
   "source": [
    "#方法一：循环遍历去除重复\n",
    "def del_bothValues(num_list):\n",
    "    new_list=[]\n",
    "    for i in num_list:\n",
    "        if i not in new_list:\n",
    "            new_list.append(i)\n",
    "    return new_list\n",
    "list1=[1,1,2,3,3,4]\n",
    "a=del_bothValues(list1)   \n",
    "print(a)"
   ]
  },
  {
   "cell_type": "code",
   "execution_count": null,
   "metadata": {},
   "outputs": [],
   "source": [
    "#方法二：使用集合去重\n",
    "list1=[1,1,2,3,3,4]\n",
    "new_list=set(list1)\n",
    "print(list(new_list))#集合特点:元素不能重复,利用集合去重"
   ]
  },
  {
   "attachments": {},
   "cell_type": "markdown",
   "metadata": {},
   "source": [
    "## 案例十\n",
    "### 简单列表的元素进行排序\n",
    "### 形式一：[2,4,1,7,6]\n",
    "### 形式二：['b','d','a','f']"
   ]
  },
  {
   "cell_type": "code",
   "execution_count": null,
   "metadata": {},
   "outputs": [],
   "source": [
    "list1=[2,4,1,7,6]\n",
    "list2=['b','d','a','f']\n",
    "list1.sort()\n",
    "print(f\"[2,4,1,7,6]升序：{list1}\")\n",
    "list1.sort(reverse=True)\n",
    "print(f\"[2,4,1,7,6]降序：{list1}\")\n",
    "list2.sort()\n",
    "print(f\"['b','d','a','f']升序：{list2}\")\n",
    "list2.sort(reverse=True)\n",
    "print(f\"['b','d','a','f']降序：{list2}\")\n",
    "\n",
    "#排序后，想有个新列表,sorted函数(list),reverse=True 降序\n",
    "list3=sorted(list1)\n",
    "print(\"我是sorted函数产生的新列表\",list3)"
   ]
  },
  {
   "attachments": {},
   "cell_type": "markdown",
   "metadata": {},
   "source": [
    "## 案例十一\n",
    "### 学生的成绩的排序\n",
    "- 复杂列表，元素是字典或者元组\n",
    "- [{'son':'101','sname':'小张','sgrade':88}]"
   ]
  },
  {
   "cell_type": "code",
   "execution_count": null,
   "metadata": {},
   "outputs": [],
   "source": [
    "stu_info=[\n",
    "    {'son':'101','sname':'小张','sgrade':88},\n",
    "    {'son':'102','sname':'小王','sgrade':68},\n",
    "    {'son':'103','sname':'小李','sgrade':100}\n",
    "]\n",
    "#升序\n",
    "stu_scort=sorted(stu_info,key=lambda x:x[\"sgrade\"])\n",
    "#降序(从大到小)\n",
    "# stu_scort=sorted(stu_info,key=lambda x:x[\"sgrade\"],reverse=True)\n",
    "print(f\"排序前{stu_info}\")\n",
    "print(f\"排序后{stu_scort}\")\n",
    "\n"
   ]
  }
 ],
 "metadata": {
  "kernelspec": {
   "display_name": "Python 3",
   "language": "python",
   "name": "python3"
  },
  "language_info": {
   "codemirror_mode": {
    "name": "ipython",
    "version": 3
   },
   "file_extension": ".py",
   "mimetype": "text/x-python",
   "name": "python",
   "nbconvert_exporter": "python",
   "pygments_lexer": "ipython3",
   "version": "3.10.6"
  },
  "orig_nbformat": 4,
  "vscode": {
   "interpreter": {
    "hash": "09825293d313a304e5deff6249908350f58bd66a4d2e6b7f3159cbd4e88ed72c"
   }
  }
 },
 "nbformat": 4,
 "nbformat_minor": 2
}
